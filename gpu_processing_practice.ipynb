{
 "cells": [
  {
   "attachments": {},
   "cell_type": "markdown",
   "metadata": {},
   "source": [
    "### Setup GPU Enabled Runtime"
   ]
  },
  {
   "cell_type": "code",
   "execution_count": null,
   "metadata": {},
   "outputs": [
    {
     "name": "stdout",
     "output_type": "stream",
     "text": [
      "/home/guest/Desktop/CUDA GPU Parallelism practice\n"
     ]
    }
   ],
   "source": [
    "import IPython.display\n",
    "!pwd"
   ]
  },
  {
   "cell_type": "code",
   "execution_count": null,
   "metadata": {},
   "outputs": [],
   "source": [
    "# For GPU Enabled Runtime\n",
    "# Install PyTorch\n",
    "!sudo pip install torch torchvision\n",
    "\n",
    "# Install onnxruntime-gpu\n",
    "!sudo pip install onnxruntime-gpu\n",
    "\n",
    "# Install InsightFace\n",
    "!sudo pip install insightface\n",
    "\n",
    "# Download the model CUDA\n",
    "!wget https://developer.nvidia.com/compute/cuda/9.2/Prod2/local_installers/cuda-repo-ubuntu1710-9-2-local_9.2.148-1_amd64\n",
    "\n",
    "# Set up git user name and email\n",
    "\n",
    "!git config --global user.email \"cheatedepk@gmail.com\"\n",
    "!git config --global user.name \"epk2112\"\n",
    "\n",
    "# Clear the output of the cell\n",
    "IPython.display.clear_output()"
   ]
  },
  {
   "cell_type": "code",
   "execution_count": 2,
   "metadata": {},
   "outputs": [
    {
     "name": "stdout",
     "output_type": "stream",
     "text": [
      "(Reading database ... 179424 files and directories currently installed.)\n",
      "Preparing to unpack cuda-repo-ubuntu1710-9-2-local_9.2.148-1_amd64 ...\n",
      "Unpacking cuda-repo-ubuntu1710-9-2-local (9.2.148-1) over (9.2.148-1) ...\n",
      "Setting up cuda-repo-ubuntu1710-9-2-local (9.2.148-1) ...\n",
      "OK\n",
      "Get:1 file:/var/cuda-repo-9-2-local  InRelease\n",
      "Ign:1 file:/var/cuda-repo-9-2-local  InRelease\n",
      "Get:2 file:/var/cuda-repo-9-2-local  Release [574 B]\n",
      "Get:2 file:/var/cuda-repo-9-2-local  Release [574 B]\n",
      "Hit:3 http://security.ubuntu.com/ubuntu focal-security InRelease              \n",
      "Hit:4 https://cloud.r-project.org/bin/linux/ubuntu focal-cran40/ InRelease     \n",
      "Hit:5 http://archive.ubuntu.com/ubuntu focal InRelease                         \n",
      "Hit:7 https://packages.microsoft.com/ubuntu/20.04/prod focal InRelease         \n",
      "Hit:8 http://archive.ubuntu.com/ubuntu focal-updates InRelease                 \n",
      "Hit:9 https://packages.microsoft.com/repos/vscode stable InRelease             \n",
      "Hit:10 http://archive.ubuntu.com/ubuntu focal-backports InRelease              \n",
      "Hit:11 https://developer.download.nvidia.com/compute/cuda/repos/ubuntu2004/x86_64  InRelease\n",
      "Hit:12 http://ppa.launchpad.net/c2d4u.team/c2d4u4.0+/ubuntu focal InRelease\n",
      "Hit:13 http://ppa.launchpad.net/cran/libgit2/ubuntu focal InRelease\n",
      "Hit:14 http://ppa.launchpad.net/deadsnakes/ppa/ubuntu focal InRelease\n",
      "Hit:15 http://ppa.launchpad.net/graphics-drivers/ppa/ubuntu focal InRelease\n",
      "Hit:16 http://ppa.launchpad.net/ubuntugis/ppa/ubuntu focal InRelease\n",
      "Reading package lists... Done                        \n",
      "Reading package lists... Done\n",
      "Building dependency tree       \n",
      "Reading state information... Done\n",
      "cuda-9-2 is already the newest version (9.2.148-1).\n",
      "0 upgraded, 0 newly installed, 0 to remove and 4 not upgraded.\n"
     ]
    }
   ],
   "source": [
    "# Install the CUDA toolkit\n",
    "\n",
    "!sudo dpkg -i cuda-repo-ubuntu1710-9-2-local_9.2.148-1_amd64\n",
    "!sudo apt-key add /var/cuda-repo-9-2-local/7fa2af80.pub\n",
    "!sudo apt-get update\n",
    "!sudo apt-get install cuda-9-2"
   ]
  },
  {
   "cell_type": "code",
   "execution_count": 3,
   "metadata": {},
   "outputs": [
    {
     "name": "stdout",
     "output_type": "stream",
     "text": [
      "CUDA is available on this system.\n"
     ]
    }
   ],
   "source": [
    "import torch\n",
    "\n",
    "# Check if CUDA is available\n",
    "if torch.cuda.is_available():\n",
    "    print(\"CUDA is available on this system.\")\n",
    "else:\n",
    "    print(\"CUDA is not available on this system.\")"
   ]
  }
 ],
 "metadata": {
  "kernelspec": {
   "display_name": "Python 3",
   "language": "python",
   "name": "python3"
  },
  "language_info": {
   "codemirror_mode": {
    "name": "ipython",
    "version": 3
   },
   "file_extension": ".py",
   "mimetype": "text/x-python",
   "name": "python",
   "nbconvert_exporter": "python",
   "pygments_lexer": "ipython3",
   "version": "3.10.12"
  },
  "orig_nbformat": 4
 },
 "nbformat": 4,
 "nbformat_minor": 2
}
